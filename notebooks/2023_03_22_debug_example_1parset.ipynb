{
 "cells": [
  {
   "cell_type": "markdown",
   "id": "de2211a6",
   "metadata": {},
   "source": [
    "When compiling by Rosa Martinez Corral, the original code produced steady-state results different than those obtained for python with the Ladder 3 model. It turns out that the problem was that the for loop where this was being executed read for (int i; i<n_states-1; i++). When instead this is fixed to for (int i=0; i<n_states-1; i++) the results coincide. This is illustrated here:"
   ]
  },
  {
   "cell_type": "code",
   "execution_count": 1,
   "id": "154c88b3",
   "metadata": {},
   "outputs": [],
   "source": [
    "import numpy as np\n",
    "import sys, os"
   ]
  },
  {
   "cell_type": "code",
   "execution_count": 2,
   "id": "9ef794f9",
   "metadata": {},
   "outputs": [
    {
     "name": "stdout",
     "output_type": "stream",
     "text": [
      "c++ -O2 -DNDEBUG -Wall -shared -std=c++11  -fPIC -undefined dynamic_lookup -I \"../\" -I /Users/rosamartinezcorral/Documents/eigenlibrary/eigen-eigen-323c052e1731/ -lmpfr -lmpc `python3 -m pybind11 --includes` ../src/Ladder_3_i0.cpp -o ../bin/Ladder_3_i0`python3-config --extension-suffix`\n"
     ]
    }
   ],
   "source": [
    "#first of all, compile the code where the only change has been this (and the classes are also named differently to make sure there are no clashes when importing both of them together)\n",
    "path_to_eigen=\"/Users/rosamartinezcorral/Documents/eigenlibrary/eigen-eigen-323c052e1731/\" \n",
    "path_to_FPTrepo=\"\\\"../\\\"\"\n",
    "file=\"Ladder_3_i0.cpp\"\n",
    "folder=\"../bin\"\n",
    "path_1=os.path.join(\"../\", \"src\")\n",
    "fname=os.path.join(path_1, file)\n",
    "objectnamemac=os.path.join(folder,file.replace('.cpp','')) \n",
    "\n",
    "compilestringmac=\"c++ -O2 -DNDEBUG -Wall -shared -std=c++11  -fPIC -undefined dynamic_lookup -I %s -I %s -lmpfr -lmpc `python3 -m pybind11 --includes` %s -o %s`python3-config --extension-suffix`\"%(path_to_FPTrepo,path_to_eigen, fname,objectnamemac)\n",
    "\n",
    "compilestring=compilestringmac\n",
    "print(compilestring)\n",
    "\n",
    "#!$compilestring"
   ]
  },
  {
   "cell_type": "code",
   "execution_count": 3,
   "id": "b5a34e92",
   "metadata": {},
   "outputs": [],
   "source": [
    "from scipy.linalg import null_space\n",
    "sys.path.insert(0, \"../bin\")\n",
    "from Ladder_3_i0 import Ladder_3_i0 as L3i0\n",
    "from Ladder_3 import Ladder_3 as L3original\n",
    "from Ladder_3_v2 import Ladder_3_v2 as L3v2"
   ]
  },
  {
   "cell_type": "code",
   "execution_count": 4,
   "id": "c33086cd",
   "metadata": {},
   "outputs": [],
   "source": [
    "#python calculation of the steady-state\n",
    "def compute_ss_fromL(L):\n",
    "    L_d=np.diag(np.sum(L,axis=0))\n",
    "    L=L-L_d\n",
    "    rhos=null_space(L) #column vector\n",
    "    rhos=np.transpose(rhos)[0] #1 row\n",
    "    ss=np.abs(rhos)/np.sum(np.abs(rhos)) #can be - when very close to 0\n",
    "    #ss=rhos/np.sum(rhos)\n",
    "    return ss\n",
    "def ss_Ladder3_python(cpp_param, x):\n",
    "    a12, a23, b12, b23, a12T, a23T, b12T, b23T, kon, koff, P, PT=cpp_param\n",
    "    #1<->2<->3 : transitions without TF bound\n",
    "    #4<->5<->6: transition with TF bound\n",
    "    #(i,j) contains the label for the transition from j+1 to i+1 (considering nodes are indexed 1-6 not 0-5)\n",
    "    L_Ladder3=np.array([[0, b12, 0, koff, 0, 0],\n",
    "                       [a12, 0, b23, 0, koff, 0],\n",
    "                       [0, a23, 0, 0, 0, koff],\n",
    "                       [kon*x,0,0,0,b12T,0],\n",
    "                        [0, kon*x, 0, a12T, 0, b23T],\n",
    "                        [0,0,kon*x, 0, a23T, 0]])\n",
    "    \n",
    "    return compute_ss_fromL(L_Ladder3)\n"
   ]
  },
  {
   "cell_type": "code",
   "execution_count": 5,
   "id": "922db513",
   "metadata": {},
   "outputs": [],
   "source": [
    "obji0 = L3i0()\n",
    "objGR = L3original()\n",
    "objv2 = L3v2()"
   ]
  },
  {
   "cell_type": "code",
   "execution_count": 8,
   "id": "368a908e",
   "metadata": {
    "scrolled": false
   },
   "outputs": [
    {
     "name": "stdout",
     "output_type": "stream",
     "text": [
      "1.01\n",
      "tf_conc= 3 P= 0\n",
      "python: 0.9864961470966014\n",
      "int i (original):same response |int i=0 (fixed):same response |abs:same response |\n",
      " ============\n",
      "tf_conc= 3 P= 1\n",
      "python: 0.9864961470966014\n",
      "int i (original):same response |int i=0 (fixed):**different response 1 0.3464330610518742 |abs:same response |\n",
      " ============\n",
      "tf_conc= 3 P= 1000\n",
      "python: 0.9864961470966014\n",
      "int i (original):same response |int i=0 (fixed):**different response 1 0.00044602832239432576 |abs:same response |\n",
      " ============\n",
      "tf_conc= 1000 P= 0\n",
      "python: 0.9899919855601608\n",
      "int i (original):same response |int i=0 (fixed):same response |abs:same response |\n",
      " ============\n",
      "tf_conc= 1000 P= 1\n",
      "python: 0.9899919855601608\n",
      "int i (original):same response |int i=0 (fixed):**different response 1 0.44077717950657946 |abs:same response |\n",
      " ============\n",
      "tf_conc= 1000 P= 1000\n",
      "python: 0.9899919855601608\n",
      "int i (original):same response |int i=0 (fixed):**different response 1 0.000612744894123417 |abs:same response |\n",
      " ============\n",
      "tf_conc= 1000000000000000 P= 0\n",
      "python: 0.004889061685256302\n",
      "int i (original):**different response 0 0.99000099000099 |int i=0 (fixed):**different response 1 0.99000099000099 |abs:**different response 2 0.99000099000099 |\n",
      " ============\n",
      "tf_conc= 1000000000000000 P= 1\n",
      "python: 0.004889061685256302\n",
      "int i (original):**different response 0 0.99000099000099 |int i=0 (fixed):**different response 1 0.44115837135937347 |abs:**different response 2 0.99000099000099 |\n",
      " ============\n",
      "tf_conc= 1000000000000000 P= 1000\n",
      "python: 0.004889061685256302\n",
      "int i (original):**different response 0 0.99000099000099 |int i=0 (fixed):same response |abs:**different response 2 0.99000099000099 |\n",
      " ============\n"
     ]
    }
   ],
   "source": [
    "#look at the ss of a given parameter set\n",
    "a12=0.1\n",
    "b12=0.01\n",
    "a23=0.1\n",
    "b23=0.01\n",
    "a12T=a12*10\n",
    "a23T=a23*10\n",
    "b12T=b12\n",
    "b23T=b23\n",
    "kon=1\n",
    "koff=1\n",
    "print(koff+b23T)\n",
    "for tf_conc in [3, 1000, 10**15]:\n",
    "    for P in [0, 1, 1000]:\n",
    "        print(\"tf_conc=\", tf_conc, \"P=\", P)\n",
    "        pars=np.array([a12,a23,b12,b23,a12T,a23T,b12T,b23T,kon,koff,P, P])\n",
    "        obji0.setLaplacian_ladder_3(pars) # super().setLaplacian_ladder_3(converted_pset)-> set_ladder_3_laplacian-> fills laplacian attribute\n",
    "        objGR.setLaplacian_ladder_3(pars)\n",
    "        objv2.setLaplacian_ladder_3(pars)\n",
    "        #print(obj.getLaplacian())\n",
    "\n",
    "        ss_python=ss_Ladder3_python(pars,tf_conc)\n",
    "        r_python=ss_python[2]+ss_python[5]\n",
    "        print(\"python:\", r_python)\n",
    "        for o,obj in enumerate([obji0, objGR, objv2]):\n",
    "            if o==0:\n",
    "                print(\"int i (original)\", end=\":\")\n",
    "            elif o==1:\n",
    "                print(\"int i=0 (fixed)\", end=\":\")\n",
    "            elif o==2:\n",
    "                print(\"abs\", end=\":\")\n",
    "            \n",
    "            if True:\n",
    "                \n",
    "                r_c=obj.compute_response(tf_conc) # compute ss response \n",
    "\n",
    "                if np.abs(r_python-r_c)>0.01:\n",
    "                    print(\"**different response\", o, r_c, end=\" |\")\n",
    "\n",
    "                else:\n",
    "                    print(\"same response\", end=\" |\")\n",
    "\n",
    "        print(\"\\n ============\")"
   ]
  },
  {
   "cell_type": "markdown",
   "id": "38a18fee",
   "metadata": {},
   "source": [
    "Note that python fails for large tf_conc."
   ]
  },
  {
   "cell_type": "code",
   "execution_count": null,
   "id": "e0521dbf",
   "metadata": {},
   "outputs": [],
   "source": []
  }
 ],
 "metadata": {
  "kernelspec": {
   "display_name": "Python 3 (ipykernel)",
   "language": "python",
   "name": "python3"
  },
  "language_info": {
   "codemirror_mode": {
    "name": "ipython",
    "version": 3
   },
   "file_extension": ".py",
   "mimetype": "text/x-python",
   "name": "python",
   "nbconvert_exporter": "python",
   "pygments_lexer": "ipython3",
   "version": "3.9.13"
  }
 },
 "nbformat": 4,
 "nbformat_minor": 5
}
