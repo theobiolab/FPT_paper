{
 "cells": [
  {
   "cell_type": "markdown",
   "id": "0fe4b5ab",
   "metadata": {},
   "source": [
    "Now I have made v3, which optimizes a few things and changes some function names to make the code more transparent."
   ]
  },
  {
   "cell_type": "code",
   "execution_count": 1,
   "id": "a05f3e8d",
   "metadata": {},
   "outputs": [],
   "source": [
    "import numpy as np\n",
    "import sys, os"
   ]
  },
  {
   "cell_type": "code",
   "execution_count": null,
   "id": "4cee3cb8",
   "metadata": {},
   "outputs": [],
   "source": []
  },
  {
   "cell_type": "code",
   "execution_count": 2,
   "id": "7eb21114",
   "metadata": {},
   "outputs": [],
   "source": [
    "sys.path.insert(0, \"../bin\")\n",
    "from Ladder_3_i0 import Ladder_3_i0 as L3i0\n",
    "from Ladder_3_v2 import Ladder_3_v2 as L3v2 \n",
    "from Ladder_3_v3 import Ladder_3_v3 as L3v3"
   ]
  },
  {
   "cell_type": "code",
   "execution_count": 3,
   "id": "0777dcd2",
   "metadata": {},
   "outputs": [],
   "source": [
    "obji0 = L3i0()\n",
    "objv2 = L3v2()\n",
    "objv3 = L3v3()"
   ]
  },
  {
   "cell_type": "code",
   "execution_count": 4,
   "id": "4bc97c19",
   "metadata": {},
   "outputs": [
    {
     "name": "stdout",
     "output_type": "stream",
     "text": [
      "1.01\n"
     ]
    }
   ],
   "source": [
    "a12=0.15\n",
    "b12=0.01\n",
    "a23=0.1\n",
    "b23=0.01\n",
    "a12T=a12*10\n",
    "a23T=a23*10\n",
    "b12T=b12\n",
    "b23T=b23\n",
    "kon=1\n",
    "koff=1\n",
    "P=10\n",
    "print(koff+b23T)\n",
    "tf_conc =3\n",
    "pars=np.array([a12,a23,b12,b23,a12T,a23T,b12T,b23T,kon,koff,P, P])"
   ]
  },
  {
   "cell_type": "code",
   "execution_count": 5,
   "id": "3c462ad3",
   "metadata": {},
   "outputs": [
    {
     "name": "stdout",
     "output_type": "stream",
     "text": [
      "[[2.54363533]\n",
      " [0.65932379]]\n"
     ]
    }
   ],
   "source": [
    "#original code\n",
    "obj=obji0 \n",
    "obj.setLaplacian_ladder_3(pars) \n",
    "obj.mult_laplacian_TF(3)\n",
    "print(obj.get_FPT_stat(True))\n",
    "%timeit obj.get_FPT_stat(True)"
   ]
  },
  {
   "cell_type": "code",
   "execution_count": 6,
   "id": "535a2f32",
   "metadata": {},
   "outputs": [
    {
     "name": "stdout",
     "output_type": "stream",
     "text": [
      "[[2.54363533]\n",
      " [0.65932379]]\n"
     ]
    }
   ],
   "source": [
    "#code where the transpose is done once and then used subsequently, plus some other changes like the possibility to not calculate cv of the FPT distribution\n",
    "obj=objv2\n",
    "obj.setLaplacian_ladder_3(pars) # super().setLaplacian_ladder_3(converted_pset)-> set_ladder_3_laplacian-> fills laplacian attribute\n",
    "obj.mult_laplacian_TF(3)\n",
    "print(obj.get_FPT_stat(True,True))\n",
    "#%timeit obj.get_FPT_stat(True,True)"
   ]
  },
  {
   "cell_type": "code",
   "execution_count": 9,
   "id": "e21b9bb9",
   "metadata": {},
   "outputs": [
    {
     "name": "stdout",
     "output_type": "stream",
     "text": [
      "[[2.54363533]\n",
      " [0.65932379]]\n"
     ]
    }
   ],
   "source": [
    "#code where some further refinements are made and some function names are redefined for clarity\n",
    "obj=objv3 \n",
    "obj.setLaplacian(pars) # changed function name so it can be general\n",
    "obj.mult_laplacian_TF(3)\n",
    "print(obj.get_FPT_stat(True,True))\n",
    "#%timeit obj.get_FPT_stat(True,True)"
   ]
  },
  {
   "cell_type": "code",
   "execution_count": 10,
   "id": "1cda3ced",
   "metadata": {},
   "outputs": [
    {
     "data": {
      "text/plain": [
       "0.8436724565756824"
      ]
     },
     "execution_count": 10,
     "metadata": {},
     "output_type": "execute_result"
    }
   ],
   "source": [
    "(689-9)/(792+14)"
   ]
  },
  {
   "cell_type": "code",
   "execution_count": 11,
   "id": "d9460f99",
   "metadata": {},
   "outputs": [
    {
     "data": {
      "text/plain": [
       "0.897172236503856"
      ]
     },
     "execution_count": 11,
     "metadata": {},
     "output_type": "execute_result"
    }
   ],
   "source": [
    "(689+9)/(792-14)"
   ]
  },
  {
   "cell_type": "markdown",
   "id": "0cf4f6a4",
   "metadata": {},
   "source": [
    "Note that it takes 10-15% less time just with these small changes."
   ]
  },
  {
   "cell_type": "code",
   "execution_count": 12,
   "id": "17859fb1",
   "metadata": {},
   "outputs": [
    {
     "name": "stdout",
     "output_type": "stream",
     "text": [
      "[[ 2.54363533]\n",
      " [-1.        ]]\n",
      "340 µs ± 7.48 µs per loop (mean ± std. dev. of 7 runs, 1000 loops each)\n"
     ]
    }
   ],
   "source": [
    "#now do not to compute cv\n",
    "obj=objv3\n",
    "obj.setLaplacian(pars) # super().setLaplacian_ladder_3(converted_pset)-> set_ladder_3_laplacian-> fills laplacian attribute\n",
    "obj.mult_laplacian_TF(3)\n",
    "print(obj.get_FPT_stat(True,False))\n",
    "%timeit obj.get_FPT_stat(True,False)"
   ]
  },
  {
   "cell_type": "markdown",
   "id": "0c3ce2fa",
   "metadata": {},
   "source": [
    "Note that the calculation of the cv takes up half the time. So, if it is not needed, it should not be calculated."
   ]
  },
  {
   "cell_type": "code",
   "execution_count": 13,
   "id": "0e821450",
   "metadata": {},
   "outputs": [],
   "source": [
    "p_log_range = 3                      # log10 parameter range\n",
    "initial_tf_conc_range = 20           # initial TF concentration range\n",
    "th_deltaR = 1                        # when th_deltaR = 1 the TF conc range used for the score computation is equal to the initial\n",
    "n_sampled_params = 500               # number of sampled parameters x number of cpus \n",
    "n_points = 100                       # number of points on which computing the FPT score\n",
    "low_mean, up_mean = 10**1, 10**4 # rejection range for the initial mean FPT"
   ]
  },
  {
   "cell_type": "code",
   "execution_count": 14,
   "id": "32b5e8d1",
   "metadata": {},
   "outputs": [
    {
     "name": "stdout",
     "output_type": "stream",
     "text": [
      "[6.45002426e-1753 1.08945771e-0028]\n"
     ]
    }
   ],
   "source": [
    "obj=obji0\n",
    "TF_range = obj.triming([-initial_tf_conc_range, initial_tf_conc_range], 100, th_deltaR)\n",
    "\n",
    "# compute score with rejection setted by the qt1 and qt3)\n",
    "score = obj.simple_score([TF_range[0], TF_range[1]], n_points, low_mean, up_mean)\n",
    "print(score)"
   ]
  },
  {
   "cell_type": "code",
   "execution_count": 15,
   "id": "f7fb59e6",
   "metadata": {},
   "outputs": [
    {
     "name": "stdout",
     "output_type": "stream",
     "text": [
      "[6.45002426e-1753 0.00000000e+0000]\n"
     ]
    }
   ],
   "source": [
    "obj=objv2\n",
    "TF_range = obj.triming([-initial_tf_conc_range, initial_tf_conc_range], 100, th_deltaR)\n",
    "\n",
    "# compute score with rejection setted by the qt1 and qt3)\n",
    "score = obj.simple_score([TF_range[0], TF_range[1]], n_points, low_mean, up_mean)\n",
    "print(score)"
   ]
  },
  {
   "cell_type": "code",
   "execution_count": 16,
   "id": "aca6b36a",
   "metadata": {},
   "outputs": [
    {
     "name": "stdout",
     "output_type": "stream",
     "text": [
      "[6.45002426e-1753 1.08945771e-0028]\n"
     ]
    }
   ],
   "source": [
    "obj=objv3\n",
    "TF_range = obj.triming([-initial_tf_conc_range, initial_tf_conc_range], 100, th_deltaR)\n",
    "\n",
    "# compute score with rejection setted by the qt1 and qt3)\n",
    "score = obj.simple_score([TF_range[0], TF_range[1]], n_points, low_mean, up_mean,computemeanscore=True, computecvscore=True,sqpar=0.01)\n",
    "print(score)"
   ]
  },
  {
   "cell_type": "code",
   "execution_count": null,
   "id": "72005887",
   "metadata": {},
   "outputs": [],
   "source": []
  }
 ],
 "metadata": {
  "kernelspec": {
   "display_name": "Python 3 (ipykernel)",
   "language": "python",
   "name": "python3"
  },
  "language_info": {
   "codemirror_mode": {
    "name": "ipython",
    "version": 3
   },
   "file_extension": ".py",
   "mimetype": "text/x-python",
   "name": "python",
   "nbconvert_exporter": "python",
   "pygments_lexer": "ipython3",
   "version": "3.9.13"
  }
 },
 "nbformat": 4,
 "nbformat_minor": 5
}
