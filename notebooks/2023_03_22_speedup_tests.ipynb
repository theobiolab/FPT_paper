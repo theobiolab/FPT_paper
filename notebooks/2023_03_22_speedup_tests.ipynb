{
 "cells": [
  {
   "cell_type": "code",
   "execution_count": 1,
   "id": "a05f3e8d",
   "metadata": {},
   "outputs": [],
   "source": [
    "import numpy as np\n",
    "import sys, os"
   ]
  },
  {
   "cell_type": "code",
   "execution_count": 2,
   "id": "4cee3cb8",
   "metadata": {},
   "outputs": [
    {
     "name": "stdout",
     "output_type": "stream",
     "text": [
      "c++ -O2 -DNDEBUG -Wall -shared -std=c++11  -fPIC -undefined dynamic_lookup -I \"../\" -I /Users/rosamartinezcorral/Documents/eigenlibrary/eigen-eigen-323c052e1731/ -lmpfr -lmpc `python3 -m pybind11 --includes` ../src/Ladder_3_v2.cpp -o ../bin/Ladder_3_v2`python3-config --extension-suffix`\n",
      "In file included from ../src/Ladder_3_v2.cpp:11:\n",
      "In file included from /usr/local/include/boost/multiprecision/mpfr.hpp:9:\n",
      "\u001b[1m/usr/local/include/boost/multiprecision/detail/standalone_config.hpp:36:7: \u001b[0m\u001b[0;1;35mwarning: \u001b[0m\u001b[1m\"The minimum language standard to use Boost.Math will be C++14 starting in July 2023 (Boost 1.82 release)\" [-W#warnings]\u001b[0m\n",
      " #    warning \"The minimum language standard to use Boost.Math will be C++14 starting in July 2023 (Boost 1.82 release)\"\n",
      "\u001b[0;1;32m      ^\n",
      "\u001b[0mIn file included from ../src/Ladder_3_v2.cpp:11:\n",
      "In file included from /usr/local/include/boost/multiprecision/mpfr.hpp:10:\n",
      "In file included from /usr/local/include/boost/multiprecision/number.hpp:12:\n",
      "In file included from /usr/local/include/boost/multiprecision/detail/generic_interconvert.hpp:12:\n",
      "In file included from /usr/local/include/boost/multiprecision/detail/default_ops.hpp:15:\n",
      "In file included from /usr/local/include/boost/multiprecision/detail/fpclassify.hpp:13:\n",
      "In file included from /usr/local/include/boost/multiprecision/detail/float128_functions.hpp:15:\n",
      "In file included from /usr/local/include/boost/cstdfloat.hpp:18:\n",
      "In file included from /usr/local/include/boost/math/cstdfloat/cstdfloat_types.hpp:17:\n",
      "\u001b[1m/usr/local/include/boost/math/tools/config.hpp:23:6: \u001b[0m\u001b[0;1;35mwarning: \u001b[0m\u001b[1m\"The minimum language standard to use Boost.Math will be C++14 starting in July 2023 (Boost 1.82 release)\" [-W#warnings]\u001b[0m\n",
      "#    warning \"The minimum language standard to use Boost.Math will be C++14 starting in July 2023 (Boost 1.82 release)\"\n",
      "\u001b[0;1;32m     ^\n",
      "\u001b[0m2 warnings generated.\n"
     ]
    }
   ],
   "source": [
    "#first of all, compile the code where the only change has been this (and the classes are also named differently to make sure there are no clashes when importing both of them together)\n",
    "path_to_eigen=\"/Users/rosamartinezcorral/Documents/eigenlibrary/eigen-eigen-323c052e1731/\" \n",
    "path_to_FPTrepo=\"\\\"../\\\"\"\n",
    "file=\"Ladder_3_v2.cpp\"\n",
    "folder=\"../bin\"\n",
    "path_1=os.path.join(\"../\", \"src\")\n",
    "fname=os.path.join(path_1, file)\n",
    "objectnamemac=os.path.join(folder,file.replace('.cpp','')) \n",
    "\n",
    "compilestringmac=\"c++ -O2 -DNDEBUG -Wall -shared -std=c++11  -fPIC -undefined dynamic_lookup -I %s -I %s -lmpfr -lmpc `python3 -m pybind11 --includes` %s -o %s`python3-config --extension-suffix`\"%(path_to_FPTrepo,path_to_eigen, fname,objectnamemac)\n",
    "\n",
    "compilestring=compilestringmac\n",
    "print(compilestring)\n",
    "\n",
    "!$compilestring"
   ]
  },
  {
   "cell_type": "code",
   "execution_count": 5,
   "id": "7eb21114",
   "metadata": {},
   "outputs": [],
   "source": [
    "sys.path.insert(0, \"../bin\")\n",
    "from Ladder_3_i0 import Ladder_3_i0 as L3i0\n",
    "from Ladder_3_v2 import Ladder_3_v2 as L3v2 #here some small things have been change to speed up: e.g. transpose laplacian once and keep in variable, then use this subsequently"
   ]
  },
  {
   "cell_type": "code",
   "execution_count": 6,
   "id": "0777dcd2",
   "metadata": {},
   "outputs": [],
   "source": [
    "obji0 = L3i0()\n",
    "objv2 = L3v2()"
   ]
  },
  {
   "cell_type": "code",
   "execution_count": 7,
   "id": "4bc97c19",
   "metadata": {},
   "outputs": [
    {
     "name": "stdout",
     "output_type": "stream",
     "text": [
      "1.01\n"
     ]
    }
   ],
   "source": [
    "a12=0.1\n",
    "b12=0.01\n",
    "a23=0.1\n",
    "b23=0.01\n",
    "a12T=a12*10\n",
    "a23T=a23*10\n",
    "b12T=b12\n",
    "b23T=b23\n",
    "kon=1\n",
    "koff=1\n",
    "P=10\n",
    "print(koff+b23T)\n",
    "tf_conc =3\n",
    "pars=np.array([a12,a23,b12,b23,a12T,a23T,b12T,b23T,kon,koff,P, P])"
   ]
  },
  {
   "cell_type": "code",
   "execution_count": 8,
   "id": "3c462ad3",
   "metadata": {},
   "outputs": [
    {
     "name": "stdout",
     "output_type": "stream",
     "text": [
      "[[2.97942733]\n",
      " [0.65704284]]\n",
      "755 µs ± 35.4 µs per loop (mean ± std. dev. of 7 runs, 1000 loops each)\n"
     ]
    }
   ],
   "source": [
    "#original code\n",
    "obj=obji0 \n",
    "obj.setLaplacian_ladder_3(pars) \n",
    "obj.mult_laplacian_TF(3)\n",
    "print(obj.get_FPT_stat(True))\n",
    "%timeit obj.get_FPT_stat(True)"
   ]
  },
  {
   "cell_type": "code",
   "execution_count": 9,
   "id": "535a2f32",
   "metadata": {},
   "outputs": [
    {
     "name": "stdout",
     "output_type": "stream",
     "text": [
      "[[2.97942733]\n",
      " [0.65704284]]\n",
      "682 µs ± 18.9 µs per loop (mean ± std. dev. of 7 runs, 1000 loops each)\n"
     ]
    }
   ],
   "source": [
    "#code where the transpose is done once and then used subsequently, plus some other changes like the possibility to not calculate cv of the FPT distribution\n",
    "obj=objv2\n",
    "obj.setLaplacian_ladder_3(pars) # super().setLaplacian_ladder_3(converted_pset)-> set_ladder_3_laplacian-> fills laplacian attribute\n",
    "obj.mult_laplacian_TF(3)\n",
    "print(obj.get_FPT_stat(True,True))\n",
    "%timeit obj.get_FPT_stat(True,True)"
   ]
  },
  {
   "cell_type": "code",
   "execution_count": 10,
   "id": "d9460f99",
   "metadata": {},
   "outputs": [
    {
     "data": {
      "text/plain": [
       "0.9033112582781457"
      ]
     },
     "execution_count": 10,
     "metadata": {},
     "output_type": "execute_result"
    }
   ],
   "source": [
    "682/755."
   ]
  },
  {
   "cell_type": "code",
   "execution_count": 11,
   "id": "e67a7417",
   "metadata": {},
   "outputs": [
    {
     "data": {
      "text/plain": [
       "0.9736111111111111"
      ]
     },
     "execution_count": 11,
     "metadata": {},
     "output_type": "execute_result"
    }
   ],
   "source": [
    "(682+19)/(755-35)"
   ]
  },
  {
   "cell_type": "markdown",
   "id": "0cf4f6a4",
   "metadata": {},
   "source": [
    "Note that it takes 3-10% less time just with these small changes."
   ]
  },
  {
   "cell_type": "code",
   "execution_count": 12,
   "id": "17859fb1",
   "metadata": {},
   "outputs": [
    {
     "name": "stdout",
     "output_type": "stream",
     "text": [
      "[[ 2.97942733]\n",
      " [-1.        ]]\n",
      "330 µs ± 8.63 µs per loop (mean ± std. dev. of 7 runs, 1000 loops each)\n"
     ]
    }
   ],
   "source": [
    "#now do not to compute cv\n",
    "obj=objv2\n",
    "obj.setLaplacian_ladder_3(pars) # super().setLaplacian_ladder_3(converted_pset)-> set_ladder_3_laplacian-> fills laplacian attribute\n",
    "obj.mult_laplacian_TF(3)\n",
    "print(obj.get_FPT_stat(True,False))\n",
    "%timeit obj.get_FPT_stat(True,False)"
   ]
  },
  {
   "cell_type": "markdown",
   "id": "0c3ce2fa",
   "metadata": {},
   "source": [
    "Note that the calculation of the cv takes up half the time. So, if it is not needed, it should not be calculated."
   ]
  },
  {
   "cell_type": "code",
   "execution_count": null,
   "id": "aca6b36a",
   "metadata": {},
   "outputs": [],
   "source": []
  }
 ],
 "metadata": {
  "kernelspec": {
   "display_name": "Python 3 (ipykernel)",
   "language": "python",
   "name": "python3"
  },
  "language_info": {
   "codemirror_mode": {
    "name": "ipython",
    "version": 3
   },
   "file_extension": ".py",
   "mimetype": "text/x-python",
   "name": "python",
   "nbconvert_exporter": "python",
   "pygments_lexer": "ipython3",
   "version": "3.9.13"
  }
 },
 "nbformat": 4,
 "nbformat_minor": 5
}
