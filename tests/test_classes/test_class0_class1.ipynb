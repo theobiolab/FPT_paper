{
 "cells": [
  {
   "cell_type": "code",
   "execution_count": 1,
   "id": "06908c8d",
   "metadata": {},
   "outputs": [],
   "source": [
    "import numpy as np"
   ]
  },
  {
   "cell_type": "code",
   "execution_count": 2,
   "id": "6922ec33",
   "metadata": {},
   "outputs": [],
   "source": [
    "from test0 import test_class0"
   ]
  },
  {
   "cell_type": "code",
   "execution_count": 3,
   "id": "9478efa1",
   "metadata": {},
   "outputs": [],
   "source": [
    "instance=test_class0()"
   ]
  },
  {
   "cell_type": "code",
   "execution_count": 4,
   "id": "c844bad1",
   "metadata": {},
   "outputs": [
    {
     "name": "stdout",
     "output_type": "stream",
     "text": [
      "Child function\n",
      "before0\n",
      "after3\n",
      "Printing attribute\n",
      "3\n"
     ]
    }
   ],
   "source": [
    "instance.set_attribute_class()"
   ]
  },
  {
   "cell_type": "code",
   "execution_count": 1,
   "id": "34fe4aac",
   "metadata": {},
   "outputs": [],
   "source": [
    "import numpy as np\n",
    "from test1 import test_class1\n",
    "#from test2 import test_class2"
   ]
  },
  {
   "cell_type": "code",
   "execution_count": 2,
   "id": "8008a2df",
   "metadata": {},
   "outputs": [],
   "source": [
    "instance=test_class1()"
   ]
  },
  {
   "cell_type": "code",
   "execution_count": 3,
   "id": "b0e5d2be",
   "metadata": {},
   "outputs": [
    {
     "name": "stdout",
     "output_type": "stream",
     "text": [
      "Printing laplacian element after setting laplacian\n",
      "-19\n"
     ]
    }
   ],
   "source": [
    "a12=11.5\n",
    "a23=2\n",
    "b12=0.1\n",
    "b23=0.2\n",
    "a12T=10\n",
    "a23T=20\n",
    "b12T=1\n",
    "b23T=2\n",
    "kon=3\n",
    "koff=0.3\n",
    "P=10\n",
    "PT=10\n",
    "\n",
    "parset=np.array([a12,a23,b12,b23,a12T,a23T,b12T,b23T,kon,koff,P,PT])\n",
    "instance.setLaplacian(parset,2.5)"
   ]
  },
  {
   "cell_type": "code",
   "execution_count": 5,
   "id": "3901b3ad",
   "metadata": {},
   "outputs": [
    {
     "data": {
      "text/plain": [
       "array([[-19. ,   0.1,   0. ,   0.3,   0. ,   0. ,   0. ],\n",
       "       [ 11.5,  -9.6,   0.2,   0. ,   0.3,   0. ,   0. ],\n",
       "       [  0. ,   2. , -17.7,   0. ,   0. ,   0.3,   0. ],\n",
       "       [  7.5,   0. ,   0. , -10.3,   1. ,   0. ,   0. ],\n",
       "       [  0. ,   7.5,   0. ,  10. , -21.3,   2. ,   0. ],\n",
       "       [  0. ,   0. ,   7.5,   0. ,  20. , -12.3,   0. ],\n",
       "       [  0. ,   0. ,  10. ,   0. ,   0. ,  10. ,  -0. ]], dtype=float128)"
      ]
     },
     "execution_count": 5,
     "metadata": {},
     "output_type": "execute_result"
    }
   ],
   "source": [
    "instance.getLaplacian()"
   ]
  },
  {
   "cell_type": "code",
   "execution_count": 4,
   "id": "95c550d0",
   "metadata": {},
   "outputs": [
    {
     "name": "stdout",
     "output_type": "stream",
     "text": [
      "testing\n",
      "before\n",
      "0\n",
      "inside\n",
      "after\n",
      "75\n"
     ]
    }
   ],
   "source": [
    "instance.call_test()"
   ]
  },
  {
   "cell_type": "code",
   "execution_count": 6,
   "id": "61808888",
   "metadata": {},
   "outputs": [
    {
     "data": {
      "text/plain": [
       "array([[-86.5,   0.1,   0. ,   0.3,   0. ,   0. ,   0. ],\n",
       "       [ 11.5, -77.1,   0.2,   0. ,   0.3,   0. ,   0. ],\n",
       "       [  0. ,   2. , -85.2,   0. ,   0. ,   0.3,   0. ],\n",
       "       [ 75. ,   0. ,   0. , -10.3,   1. ,   0. ,   0. ],\n",
       "       [  0. ,  75. ,   0. ,  10. , -21.3,   2. ,   0. ],\n",
       "       [  0. ,   0. ,  75. ,   0. ,  20. , -12.3,   0. ],\n",
       "       [  0. ,   0. ,  10. ,   0. ,   0. ,  10. ,  -0. ]], dtype=float128)"
      ]
     },
     "execution_count": 6,
     "metadata": {},
     "output_type": "execute_result"
    }
   ],
   "source": [
    "instance.getLaplacian_TF()"
   ]
  },
  {
   "cell_type": "code",
   "execution_count": 7,
   "id": "4fcccc3b",
   "metadata": {},
   "outputs": [
    {
     "name": "stdout",
     "output_type": "stream",
     "text": [
      "testing\n",
      "before\n",
      "75\n",
      "inside\n",
      "after\n",
      "75\n"
     ]
    }
   ],
   "source": [
    "instance.call_test()"
   ]
  },
  {
   "cell_type": "code",
   "execution_count": null,
   "id": "c0d32c1f",
   "metadata": {},
   "outputs": [],
   "source": []
  }
 ],
 "metadata": {
  "kernelspec": {
   "display_name": "Python 3 (ipykernel)",
   "language": "python",
   "name": "python3"
  },
  "language_info": {
   "codemirror_mode": {
    "name": "ipython",
    "version": 3
   },
   "file_extension": ".py",
   "mimetype": "text/x-python",
   "name": "python",
   "nbconvert_exporter": "python",
   "pygments_lexer": "ipython3",
   "version": "3.9.13"
  }
 },
 "nbformat": 4,
 "nbformat_minor": 5
}
