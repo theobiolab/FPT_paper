{
 "cells": [
  {
   "cell_type": "code",
   "execution_count": 1,
   "id": "a13be3e0-cc39-41a6-b8ca-8b5df98f7887",
   "metadata": {},
   "outputs": [],
   "source": [
    "import sympy as sym\n",
    "import numpy as np \n",
    "from sympy import *\n",
    "from sympy.printing import mathematica\n",
    "from collections import OrderedDict\n",
    "import matplotlib.pyplot as plt\n",
    "\n",
    "import sys\n",
    "sys.path.insert(0, \"..\")\n",
    "import recurrence_func\n",
    "\n",
    "import logging\n",
    "logging.basicConfig(format='%(asctime)s - %(message)s', level=logging.INFO)"
   ]
  },
  {
   "cell_type": "markdown",
   "id": "d77f7f65-a107-4a15-87d1-3b1e7f810d27",
   "metadata": {},
   "source": [
    "# Analytic calculations for N=2"
   ]
  },
  {
   "cell_type": "code",
   "execution_count": 2,
   "id": "b16e5f13-c066-4f6a-8457-0a1e902298b7",
   "metadata": {},
   "outputs": [],
   "source": [
    "l12  = sym.symbols('\\ell_{12}')\n",
    "l21  = sym.symbols('\\ell_{21}')\n",
    "l12T = sym.symbols('\\ell_{12}^T')\n",
    "l21T = sym.symbols('\\ell_{21}^T')\n",
    "kon  = sym.symbols('k_{on}')\n",
    "koff  = sym.symbols('k_{off}')\n",
    "r    = sym.symbols('r')\n",
    "x    = sym.symbols(\"x\")\n",
    "alpha = sym.symbols(\"alpha\")\n",
    "\n",
    "g12 = sym.Symbol(\"\\gamma_{1,2}\")\n",
    "g21 = sym.Symbol(\"\\gamma_{2,1}\")"
   ]
  },
  {
   "cell_type": "code",
   "execution_count": 3,
   "id": "cf57d25e-3506-4348-81ef-da962bb6b6af",
   "metadata": {},
   "outputs": [],
   "source": [
    "lap = sym.Matrix([[    0,      l21,      koff,          0,        0], \n",
    "                  [  l12,        0,         0,       koff,        0], \n",
    "                  [kon*x,        0,         0,       l21T,        0], \n",
    "                  [    0,    kon*x,      l12T,          0,        0],\n",
    "                  [    0,        r,         0,          r,        0]])\n",
    "\n",
    "lap_ss = sym.Matrix([[    0,      l21,      koff,          0], \n",
    "                     [  l12,        0,         0,       koff], \n",
    "                     [kon*x,        0,         0,       l21T], \n",
    "                     [    0,    kon*x,      l12T,          0]])"
   ]
  },
  {
   "cell_type": "code",
   "execution_count": 4,
   "id": "788f4cc4-ea38-4289-acbb-9ea46f13f03f",
   "metadata": {},
   "outputs": [],
   "source": [
    "for i in range(lap.shape[0]): \n",
    "    lap[i,i] = -np.sum(lap[:,i])\n",
    "LG_fpt = -lap.T\n",
    "\n",
    "for i in range(lap_ss.shape[0]): \n",
    "    lap_ss[i,i] = -np.sum(lap_ss[:,i])\n",
    "LG_ss = -lap_ss.T"
   ]
  },
  {
   "cell_type": "code",
   "execution_count": 5,
   "id": "d7e8b0fa-bf5a-4200-a237-7568526fcc43",
   "metadata": {},
   "outputs": [
    {
     "name": "stderr",
     "output_type": "stream",
     "text": [
      "2025-07-22 12:34:45,797 - Computing Q matrices for the FPT laplacian\n",
      "2025-07-22 12:34:47,149 - Computing Q matrices for the SS laplacian\n"
     ]
    }
   ],
   "source": [
    "logging.info('Computing Q matrices for the FPT laplacian')\n",
    "qc = recurrence_func.Q_matrices(LG = LG_fpt, N = LG_fpt.shape[0], cQ = sym.eye(LG_fpt.shape[0]))\n",
    "logging.info('Computing Q matrices for the SS laplacian')\n",
    "q_ss = recurrence_func.Q_matrices(LG = LG_ss, N = LG_ss.shape[0], cQ = sym.eye(LG_ss.shape[0]))"
   ]
  },
  {
   "cell_type": "code",
   "execution_count": 6,
   "id": "a3ee1be6-d198-47d9-ac63-4b9f5fcc508b",
   "metadata": {},
   "outputs": [],
   "source": [
    "p_ss    = sym.simplify((q_ss[-1][1,1]+q_ss[-1][3,3])/(np.trace(q_ss[-1])))\n",
    "mean_fpt = sym.simplify(recurrence_func.MeanFPT(qc, LG_fpt.shape[0]))"
   ]
  },
  {
   "cell_type": "markdown",
   "id": "7f755c85-3a3d-49a4-8a9b-5a8c35ccb46c",
   "metadata": {},
   "source": [
    "# $\\gamma_{1,2} \\neq 1$ and $\\gamma_{2,1} = 1$"
   ]
  },
  {
   "cell_type": "code",
   "execution_count": 9,
   "id": "d7c88cb5-fab0-4d44-9b45-10aae28e8cdb",
   "metadata": {},
   "outputs": [],
   "source": [
    "ss_g12 = sym.simplify(p_ss.subs({l12T:g12*l12, l21T:l21}))\n",
    "mfpt_g12 = sym.simplify(mean_fpt.subs({l12T:g12*l12, l21T:l21}))"
   ]
  },
  {
   "cell_type": "code",
   "execution_count": 10,
   "id": "6f1c0065-f823-4ada-aa49-af3837eb8e82",
   "metadata": {},
   "outputs": [],
   "source": [
    "delta_ss = sym.simplify(sym.limit(ss_g12, x, sym.oo)-sym.limit(ss_g12, x, 0))\n",
    "delta_mfpt = sym.simplify((sym.limit(mfpt_g12, x, sym.oo)-sym.limit(mfpt_g12, x, 0))/sym.limit(mfpt_g12, x, 0))"
   ]
  },
  {
   "cell_type": "code",
   "execution_count": 11,
   "id": "3534ebc5-71f1-4df8-9ee2-bd45a1d687c5",
   "metadata": {},
   "outputs": [
    {
     "data": {
      "text/latex": [
       "$\\displaystyle \\frac{\\ell_{12} \\ell_{21} \\left(\\gamma_{1,2} - 1\\right)}{\\ell_{12}^{2} \\gamma_{1,2} + \\ell_{12} \\ell_{21} \\gamma_{1,2} + \\ell_{12} \\ell_{21} + \\ell_{21}^{2}}$"
      ],
      "text/plain": [
       "\\ell_{12}*\\ell_{21}*(\\gamma_{1,2} - 1)/(\\ell_{12}**2*\\gamma_{1,2} + \\ell_{12}*\\ell_{21}*\\gamma_{1,2} + \\ell_{12}*\\ell_{21} + \\ell_{21}**2)"
      ]
     },
     "execution_count": 11,
     "metadata": {},
     "output_type": "execute_result"
    }
   ],
   "source": [
    "delta_ss"
   ]
  },
  {
   "cell_type": "code",
   "execution_count": 13,
   "id": "634734ca-9ed0-4748-ba80-662bc1ac25cc",
   "metadata": {},
   "outputs": [
    {
     "data": {
      "text/latex": [
       "$\\displaystyle \\frac{- \\ell_{21} \\gamma_{1,2} + \\ell_{21} - \\gamma_{1,2} r + r}{\\gamma_{1,2} \\left(\\ell_{12} + \\ell_{21} + r\\right)}$"
      ],
      "text/plain": [
       "(-\\ell_{21}*\\gamma_{1,2} + \\ell_{21} - \\gamma_{1,2}*r + r)/(\\gamma_{1,2}*(\\ell_{12} + \\ell_{21} + r))"
      ]
     },
     "execution_count": 13,
     "metadata": {},
     "output_type": "execute_result"
    }
   ],
   "source": [
    "delta_mfpt"
   ]
  },
  {
   "cell_type": "markdown",
   "id": "8f52d37f-3fc3-4b42-9f20-10f5cdcca1e6",
   "metadata": {},
   "source": [
    "# $\\gamma_{1,2} = 1$ and $\\gamma_{2,1} \\neq 1$"
   ]
  },
  {
   "cell_type": "code",
   "execution_count": 14,
   "id": "b78840ba-1d4a-489a-a941-92d7b37d0f6c",
   "metadata": {},
   "outputs": [],
   "source": [
    "ss_g21 = sym.simplify(p_ss.subs({l12T:l12, l21T:g21*l21}))\n",
    "mfpt_g21 = sym.simplify(mean_fpt.subs({l12T:l12, l21T:g21*l21}))"
   ]
  },
  {
   "cell_type": "code",
   "execution_count": 15,
   "id": "55f6584a-a1a3-4088-8d9f-19926a85d9b8",
   "metadata": {},
   "outputs": [],
   "source": [
    "delta_ss_g21 = sym.simplify(sym.limit(ss_g21, x, sym.oo)-sym.limit(ss_g21, x, 0))\n",
    "delta_mfpt_g21 = sym.simplify((sym.limit(mfpt_g21, x, sym.oo)-sym.limit(mfpt_g21, x, 0))/sym.limit(mfpt_g21, x, sym.oo))"
   ]
  },
  {
   "cell_type": "code",
   "execution_count": 16,
   "id": "4a8fa02b-c0a6-423f-b279-38cc01c39360",
   "metadata": {},
   "outputs": [
    {
     "data": {
      "text/latex": [
       "$\\displaystyle \\frac{\\ell_{12} \\ell_{21} \\cdot \\left(1 - \\gamma_{2,1}\\right)}{\\ell_{12}^{2} + \\ell_{12} \\ell_{21} \\gamma_{2,1} + \\ell_{12} \\ell_{21} + \\ell_{21}^{2} \\gamma_{2,1}}$"
      ],
      "text/plain": [
       "\\ell_{12}*\\ell_{21}*(1 - \\gamma_{2,1})/(\\ell_{12}**2 + \\ell_{12}*\\ell_{21}*\\gamma_{2,1} + \\ell_{12}*\\ell_{21} + \\ell_{21}**2*\\gamma_{2,1})"
      ]
     },
     "execution_count": 16,
     "metadata": {},
     "output_type": "execute_result"
    }
   ],
   "source": [
    "delta_ss_g21"
   ]
  },
  {
   "cell_type": "code",
   "execution_count": 17,
   "id": "af2981c7-d6c6-413b-b511-b2ca026b82c1",
   "metadata": {},
   "outputs": [
    {
     "data": {
      "text/latex": [
       "$\\displaystyle \\frac{\\ell_{21} \\left(\\gamma_{2,1} - 1\\right)}{\\ell_{12} + \\ell_{21} \\gamma_{2,1} + r}$"
      ],
      "text/plain": [
       "\\ell_{21}*(\\gamma_{2,1} - 1)/(\\ell_{12} + \\ell_{21}*\\gamma_{2,1} + r)"
      ]
     },
     "execution_count": 17,
     "metadata": {},
     "output_type": "execute_result"
    }
   ],
   "source": [
    "delta_mfpt_g21"
   ]
  }
 ],
 "metadata": {
  "kernelspec": {
   "display_name": "Python 3 (ipykernel)",
   "language": "python",
   "name": "python3"
  },
  "language_info": {
   "codemirror_mode": {
    "name": "ipython",
    "version": 3
   },
   "file_extension": ".py",
   "mimetype": "text/x-python",
   "name": "python",
   "nbconvert_exporter": "python",
   "pygments_lexer": "ipython3",
   "version": "3.11.5"
  }
 },
 "nbformat": 4,
 "nbformat_minor": 5
}
