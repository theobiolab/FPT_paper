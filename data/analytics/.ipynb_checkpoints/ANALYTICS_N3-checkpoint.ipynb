{
 "cells": [
  {
   "cell_type": "code",
   "execution_count": 1,
   "id": "bca89a59-9af1-44b0-a143-94d7fce7b44c",
   "metadata": {},
   "outputs": [],
   "source": [
    "import numpy as np \n",
    "import sympy\n",
    "import pickle\n",
    "import matplotlib.pyplot as plt\n",
    "from IPython.display import display, Math"
   ]
  },
  {
   "cell_type": "code",
   "execution_count": 2,
   "id": "cd924ccd-2ea2-4a02-ab40-9ffc3ae05afe",
   "metadata": {},
   "outputs": [],
   "source": [
    "g12 = sympy.Symbol(r'\\gamma_{1,2}')\n",
    "g23 = sympy.Symbol(r'\\gamma_{2,3}')\n",
    "g21 = sympy.Symbol(r'\\gamma_{2,1}')\n",
    "g32 = sympy.Symbol(r'\\gamma_{3,2}')\n",
    "\n",
    "l12  = sympy.symbols('l_{12}')\n",
    "l23  = sympy.symbols('l_{23}')\n",
    "l21  = sympy.symbols('l_{21}')\n",
    "l32  = sympy.symbols('l_{32}')\n",
    "l12T = sympy.symbols('l_{12}^T')\n",
    "l23T = sympy.symbols('l_{23}^T')\n",
    "l21T = sympy.symbols('l_{21}^T')\n",
    "l32T = sympy.symbols('l_{32}^T')\n",
    "kon  = sympy.symbols('k_{on}')\n",
    "koff  = sympy.symbols('k_{off}')\n",
    "r    = sympy.symbols('r')\n",
    "alpha = sympy.Symbol(\"alpha\")\n",
    "beta = sympy.symbols(\"beta\")\n",
    "x    = sympy.symbols(\"x\")"
   ]
  },
  {
   "cell_type": "code",
   "execution_count": 3,
   "id": "9bb2d86a-2360-49e4-9213-1489c830bea3",
   "metadata": {},
   "outputs": [],
   "source": [
    "with open(\"full_equations/ss_N3_general.txt\", \"rb\") as inf:\n",
    "    ss = pickle.load(inf)\n",
    "\n",
    "with open(\"full_equations/mfpt_N3_general.txt\", \"rb\") as inf:\n",
    "    mean_mfpt = pickle.load(inf)"
   ]
  },
  {
   "cell_type": "code",
   "execution_count": 4,
   "id": "62ea501d-2f91-4bf6-838e-e6d2de6fb739",
   "metadata": {},
   "outputs": [],
   "source": [
    "ss_subs_main = sympy.simplify(ss.subs({\n",
    "                                   l21:l12, l32:l23, \n",
    "                                   l12T: g12*l12, \n",
    "                                   l23T: g23*l23, \n",
    "                                   l21T: g21*l12, \n",
    "                                   l32T: g32*l23}))\n",
    "\n",
    "mfpt_subs_main = sympy.simplify(mean_mfpt.subs({\n",
    "                                   l21:l12, l32:l23, \n",
    "                                   l12T: g12*l12, \n",
    "                                   l23T: g23*l23, \n",
    "                                   l21T: g21*l12, \n",
    "                                   l32T: g32*l23}))"
   ]
  },
  {
   "cell_type": "code",
   "execution_count": 5,
   "id": "128d14ff-bfe1-4151-acfb-bf2f77c63acc",
   "metadata": {},
   "outputs": [],
   "source": [
    "def compute_deltas(ss_subs_main, mfpt_subs_main, gammas = {g12:g12, g21:g21, g23:g23, g32:g32}):\n",
    "    \n",
    "    ss_subs = sympy.simplify(ss_subs_main.subs(gammas))\n",
    "    mfpt_subs = sympy.simplify(mfpt_subs_main.subs(gammas))\n",
    "    delta_ss = sympy.simplify(sympy.limit(ss_subs, x, sympy.oo)-sympy.limit(ss_subs, x, 0))\n",
    "    delta_mfpt = sympy.simplify((sympy.limit(mfpt_subs, x, sympy.oo)-sympy.limit(mfpt_subs, x, 0))/sympy.limit(mfpt_subs, x, 0))\n",
    "\n",
    "    return delta_ss, delta_mfpt"
   ]
  },
  {
   "cell_type": "code",
   "execution_count": 6,
   "id": "76c060d0-b902-4938-88e8-b23e47817f5c",
   "metadata": {},
   "outputs": [],
   "source": [
    "def alpha_beta_transf(dynamic_range): \n",
    "    return dynamic_range.subs({l23:alpha*l12, r:beta*l12}).simplify()"
   ]
  },
  {
   "cell_type": "markdown",
   "id": "b1419f21-1927-44a6-8141-8ec5582f14b6",
   "metadata": {},
   "source": [
    "Regulation cases: \n",
    "\n",
    "- $\\text{(1.I)}$ $\\gamma_{1,2}>1$\n",
    "- $\\text{(1.II)}$ $\\gamma_{2,1}>1$\n",
    "- $\\text{(1.III)}$ $\\gamma_{2,3}>1$\n",
    "- $\\text{(1.IV)}$ $\\gamma_{3,2}>1$"
   ]
  },
  {
   "cell_type": "markdown",
   "id": "43565917-6391-4965-b248-655d58279bc3",
   "metadata": {},
   "source": [
    "## Case (1.I)"
   ]
  },
  {
   "cell_type": "code",
   "execution_count": 7,
   "id": "475608d6-33c8-4b9b-b508-9ed7294f643d",
   "metadata": {},
   "outputs": [],
   "source": [
    "ss_subs = sympy.simplify(ss_subs_main.subs({g12:g12, g21:1, g23:1, g32:1}))\n",
    "mfpt_subs = sympy.simplify(mfpt_subs_main.subs({g12:g12, g21:1, g23:1, g32:1}))"
   ]
  },
  {
   "cell_type": "code",
   "execution_count": 8,
   "id": "d77f00a7-0d37-412f-a6c2-18e07a637b69",
   "metadata": {},
   "outputs": [],
   "source": [
    "delta_ss, delta_mfpt = compute_deltas(ss_subs, mfpt_subs)"
   ]
  },
  {
   "cell_type": "code",
   "execution_count": 9,
   "id": "418ffa20-49ae-4750-a722-dff5884b6da6",
   "metadata": {},
   "outputs": [
    {
     "data": {
      "text/latex": [
       "$\\displaystyle \\frac{\\gamma_{1,2} - 1}{3 \\cdot \\left(2 \\gamma_{1,2} + 1\\right)}$"
      ],
      "text/plain": [
       "(\\gamma_{1,2} - 1)/(3*(2*\\gamma_{1,2} + 1))"
      ]
     },
     "execution_count": 9,
     "metadata": {},
     "output_type": "execute_result"
    }
   ],
   "source": [
    "alpha_beta_transf(delta_ss)"
   ]
  },
  {
   "cell_type": "code",
   "execution_count": 10,
   "id": "37cd70bf-a41f-46bf-b0de-b940341291b3",
   "metadata": {},
   "outputs": [
    {
     "data": {
      "text/latex": [
       "$\\displaystyle \\frac{- \\gamma_{1,2} \\alpha \\beta - \\gamma_{1,2} \\alpha - \\gamma_{1,2} \\beta + \\alpha \\beta + \\alpha + \\beta}{\\gamma_{1,2} \\left(\\alpha \\beta + 3 \\alpha + 2 \\beta\\right)}$"
      ],
      "text/plain": [
       "(-\\gamma_{1,2}*alpha*beta - \\gamma_{1,2}*alpha - \\gamma_{1,2}*beta + alpha*beta + alpha + beta)/(\\gamma_{1,2}*(alpha*beta + 3*alpha + 2*beta))"
      ]
     },
     "execution_count": 10,
     "metadata": {},
     "output_type": "execute_result"
    }
   ],
   "source": [
    "alpha_beta_transf(delta_mfpt)"
   ]
  },
  {
   "cell_type": "markdown",
   "id": "9929aec8-b9f1-4187-ad62-7c8f7308afbe",
   "metadata": {},
   "source": [
    "## Case (1.II)"
   ]
  },
  {
   "cell_type": "code",
   "execution_count": 11,
   "id": "1cca6393-cd18-4182-8ca7-f3efcad95072",
   "metadata": {},
   "outputs": [],
   "source": [
    "ss_subs = sympy.simplify(ss_subs_main.subs({g12:1, g21:g21, g23:1, g32:1}))\n",
    "mfpt_subs = sympy.simplify(mfpt_subs_main.subs({g12:1, g21:g21, g23:1, g32:1}))\n",
    "delta_ss, delta_mfpt = compute_deltas(ss_subs, mfpt_subs)"
   ]
  },
  {
   "cell_type": "code",
   "execution_count": 12,
   "id": "15c5ee19-d6b5-45de-9207-fcb116cc8940",
   "metadata": {},
   "outputs": [
    {
     "data": {
      "text/latex": [
       "$\\displaystyle \\frac{1 - \\gamma_{2,1}}{3 \\left(\\gamma_{2,1} + 2\\right)}$"
      ],
      "text/plain": [
       "(1 - \\gamma_{2,1})/(3*(\\gamma_{2,1} + 2))"
      ]
     },
     "execution_count": 12,
     "metadata": {},
     "output_type": "execute_result"
    }
   ],
   "source": [
    "alpha_beta_transf(delta_ss)"
   ]
  },
  {
   "cell_type": "code",
   "execution_count": 13,
   "id": "2b70b45d-f344-4ef0-bf4a-55566158b6cd",
   "metadata": {},
   "outputs": [
    {
     "data": {
      "text/latex": [
       "$\\displaystyle \\frac{\\gamma_{2,1} \\alpha + \\gamma_{2,1} \\beta - \\alpha - \\beta}{\\alpha \\beta + 3 \\alpha + 2 \\beta}$"
      ],
      "text/plain": [
       "(\\gamma_{2,1}*alpha + \\gamma_{2,1}*beta - alpha - beta)/(alpha*beta + 3*alpha + 2*beta)"
      ]
     },
     "execution_count": 13,
     "metadata": {},
     "output_type": "execute_result"
    }
   ],
   "source": [
    "alpha_beta_transf(delta_mfpt)"
   ]
  },
  {
   "cell_type": "markdown",
   "id": "c619b19e-1024-485a-ad1d-b96291ab2e3f",
   "metadata": {},
   "source": [
    "## Case (1.III)"
   ]
  },
  {
   "cell_type": "code",
   "execution_count": 14,
   "id": "2b726f1a-6732-4066-964f-81c5560c835a",
   "metadata": {},
   "outputs": [],
   "source": [
    "ss_subs = sympy.simplify(ss_subs_main.subs({g12:1, g21:1, g23:g23, g32:1}))\n",
    "mfpt_subs = sympy.simplify(mfpt_subs_main.subs({g12:1, g21:1, g23:g23, g32:1}))\n",
    "delta_ss, delta_mfpt = compute_deltas(ss_subs, mfpt_subs)"
   ]
  },
  {
   "cell_type": "code",
   "execution_count": 15,
   "id": "af37b61b-bb91-45b1-8681-96abe1e7bc30",
   "metadata": {},
   "outputs": [
    {
     "data": {
      "text/latex": [
       "$\\displaystyle \\frac{2 \\left(\\gamma_{2,3} - 1\\right)}{3 \\left(\\gamma_{2,3} + 2\\right)}$"
      ],
      "text/plain": [
       "2*(\\gamma_{2,3} - 1)/(3*(\\gamma_{2,3} + 2))"
      ]
     },
     "execution_count": 15,
     "metadata": {},
     "output_type": "execute_result"
    }
   ],
   "source": [
    "alpha_beta_transf(delta_ss)"
   ]
  },
  {
   "cell_type": "code",
   "execution_count": 16,
   "id": "7c514eee-0ed3-48a4-9073-8ce9735b9d22",
   "metadata": {},
   "outputs": [
    {
     "data": {
      "text/latex": [
       "$\\displaystyle \\frac{2 \\left(- \\gamma_{2,3} \\alpha - \\gamma_{2,3} \\beta + \\alpha + \\beta\\right)}{\\gamma_{2,3} \\left(\\alpha \\beta + 3 \\alpha + 2 \\beta\\right)}$"
      ],
      "text/plain": [
       "2*(-\\gamma_{2,3}*alpha - \\gamma_{2,3}*beta + alpha + beta)/(\\gamma_{2,3}*(alpha*beta + 3*alpha + 2*beta))"
      ]
     },
     "execution_count": 16,
     "metadata": {},
     "output_type": "execute_result"
    }
   ],
   "source": [
    "alpha_beta_transf(delta_mfpt)"
   ]
  },
  {
   "cell_type": "markdown",
   "id": "e3610e7e-dad3-4fc7-9fa2-46a726a12e8b",
   "metadata": {},
   "source": [
    "## Case (1.IV)"
   ]
  },
  {
   "cell_type": "code",
   "execution_count": 17,
   "id": "923753c5-623e-4c26-b591-07380f171107",
   "metadata": {},
   "outputs": [],
   "source": [
    "ss_subs = sympy.simplify(ss_subs_main.subs({g12:1, g21:1, g23:1, g32:g32}))\n",
    "mfpt_subs = sympy.simplify(mfpt_subs_main.subs({g12:1, g21:1, g23:1, g32:g32}))\n",
    "delta_ss, delta_mfpt = compute_deltas(ss_subs, mfpt_subs)"
   ]
  },
  {
   "cell_type": "code",
   "execution_count": 18,
   "id": "c683e142-8357-41e4-a175-9654158cf09f",
   "metadata": {},
   "outputs": [
    {
     "data": {
      "text/latex": [
       "$\\displaystyle \\frac{2 \\cdot \\left(1 - \\gamma_{3,2}\\right)}{3 \\cdot \\left(2 \\gamma_{3,2} + 1\\right)}$"
      ],
      "text/plain": [
       "2*(1 - \\gamma_{3,2})/(3*(2*\\gamma_{3,2} + 1))"
      ]
     },
     "execution_count": 18,
     "metadata": {},
     "output_type": "execute_result"
    }
   ],
   "source": [
    "alpha_beta_transf(delta_ss)"
   ]
  },
  {
   "cell_type": "code",
   "execution_count": 19,
   "id": "84e156d4-f9a3-4397-8bc1-7a9fc164d82f",
   "metadata": {},
   "outputs": [
    {
     "data": {
      "text/latex": [
       "$\\displaystyle \\frac{2 \\alpha \\left(\\gamma_{3,2} - 1\\right)}{\\alpha \\beta + 3 \\alpha + 2 \\beta}$"
      ],
      "text/plain": [
       "2*alpha*(\\gamma_{3,2} - 1)/(alpha*beta + 3*alpha + 2*beta)"
      ]
     },
     "execution_count": 19,
     "metadata": {},
     "output_type": "execute_result"
    }
   ],
   "source": [
    "alpha_beta_transf(delta_mfpt)"
   ]
  },
  {
   "cell_type": "markdown",
   "id": "f3d9d0c1-a904-46b1-9579-e756bf319368",
   "metadata": {},
   "source": [
    "Regulation cases: \n",
    "\n",
    "- $\\text{(2.I)}$ $\\gamma_{1,2}>1$, $\\gamma_{2,3}>1$\n",
    "- $\\text{(2.II)}$ $\\gamma_{1,2}>1$, $\\gamma_{3,2}<1$\n",
    "- $\\text{(2.III)}$ $\\gamma_{2,1}<1$, $\\gamma_{2,3}>1$\n",
    "- $\\text{(2.IV)}$ $\\gamma_{2,1}<1$, $\\gamma_{3,2}<1$"
   ]
  },
  {
   "cell_type": "markdown",
   "id": "44acc9b8-3de9-4d61-b13c-4b7e36dc304a",
   "metadata": {},
   "source": [
    "## Case (2.I)"
   ]
  },
  {
   "cell_type": "code",
   "execution_count": 20,
   "id": "591d6f27-3647-4c69-9a5b-50428508b468",
   "metadata": {},
   "outputs": [],
   "source": [
    "ss_subs = sympy.simplify(ss_subs_main.subs({g12:g12, g21:1, g23:g23, g32:1}))\n",
    "mfpt_subs = sympy.simplify(mfpt_subs_main.subs({g12:g12, g21:1, g23:g23, g32:1}))\n",
    "delta_ss, delta_mfpt = compute_deltas(ss_subs, mfpt_subs)"
   ]
  },
  {
   "cell_type": "code",
   "execution_count": 21,
   "id": "e5bbf7ee-b307-4f1f-b880-6cbd067db5b3",
   "metadata": {},
   "outputs": [
    {
     "data": {
      "text/latex": [
       "$\\displaystyle \\frac{2 \\gamma_{1,2} \\gamma_{2,3} - \\gamma_{1,2} - 1}{3 \\left(\\gamma_{1,2} \\gamma_{2,3} + \\gamma_{1,2} + 1\\right)}$"
      ],
      "text/plain": [
       "(2*\\gamma_{1,2}*\\gamma_{2,3} - \\gamma_{1,2} - 1)/(3*(\\gamma_{1,2}*\\gamma_{2,3} + \\gamma_{1,2} + 1))"
      ]
     },
     "execution_count": 21,
     "metadata": {},
     "output_type": "execute_result"
    }
   ],
   "source": [
    "alpha_beta_transf(delta_ss)"
   ]
  },
  {
   "cell_type": "code",
   "execution_count": 22,
   "id": "b6d108da-167a-4849-b3f1-bfeed67afb11",
   "metadata": {},
   "outputs": [
    {
     "data": {
      "text/latex": [
       "$\\displaystyle \\frac{- \\gamma_{1,2} \\gamma_{2,3} \\alpha \\beta - 2 \\gamma_{1,2} \\gamma_{2,3} \\alpha - 2 \\gamma_{1,2} \\gamma_{2,3} \\beta + \\gamma_{1,2} \\alpha + \\gamma_{1,2} \\beta + \\gamma_{2,3} \\alpha \\beta + \\alpha + \\beta}{\\gamma_{1,2} \\gamma_{2,3} \\left(\\alpha \\beta + 3 \\alpha + 2 \\beta\\right)}$"
      ],
      "text/plain": [
       "(-\\gamma_{1,2}*\\gamma_{2,3}*alpha*beta - 2*\\gamma_{1,2}*\\gamma_{2,3}*alpha - 2*\\gamma_{1,2}*\\gamma_{2,3}*beta + \\gamma_{1,2}*alpha + \\gamma_{1,2}*beta + \\gamma_{2,3}*alpha*beta + alpha + beta)/(\\gamma_{1,2}*\\gamma_{2,3}*(alpha*beta + 3*alpha + 2*beta))"
      ]
     },
     "execution_count": 22,
     "metadata": {},
     "output_type": "execute_result"
    }
   ],
   "source": [
    "alpha_beta_transf(delta_mfpt)"
   ]
  },
  {
   "cell_type": "markdown",
   "id": "8dc27eb8-d9af-4dde-acfb-b455bf5244bf",
   "metadata": {},
   "source": [
    "## Case (2.II)"
   ]
  },
  {
   "cell_type": "code",
   "execution_count": 23,
   "id": "0f76405b-85bf-45f4-bb2c-933f168d2364",
   "metadata": {},
   "outputs": [],
   "source": [
    "ss_subs = sympy.simplify(ss_subs_main.subs({g12:g12, g21:1, g23:1, g32:g32}))\n",
    "mfpt_subs = sympy.simplify(mfpt_subs_main.subs({g12:g12, g21:1, g23:1, g32:g32}))\n",
    "delta_ss, delta_mfpt = compute_deltas(ss_subs, mfpt_subs)"
   ]
  },
  {
   "cell_type": "code",
   "execution_count": 24,
   "id": "914abbf1-b5d7-4f1c-a533-a558cd9af76d",
   "metadata": {},
   "outputs": [
    {
     "data": {
      "text/latex": [
       "$\\displaystyle \\frac{- \\gamma_{1,2} \\gamma_{3,2} + 2 \\gamma_{1,2} - \\gamma_{3,2}}{3 \\left(\\gamma_{1,2} \\gamma_{3,2} + \\gamma_{1,2} + \\gamma_{3,2}\\right)}$"
      ],
      "text/plain": [
       "(-\\gamma_{1,2}*\\gamma_{3,2} + 2*\\gamma_{1,2} - \\gamma_{3,2})/(3*(\\gamma_{1,2}*\\gamma_{3,2} + \\gamma_{1,2} + \\gamma_{3,2}))"
      ]
     },
     "execution_count": 24,
     "metadata": {},
     "output_type": "execute_result"
    }
   ],
   "source": [
    "alpha_beta_transf(delta_ss)"
   ]
  },
  {
   "cell_type": "code",
   "execution_count": 25,
   "id": "0316d61a-1859-40d2-8e7f-f0e5e08fdb38",
   "metadata": {},
   "outputs": [
    {
     "data": {
      "text/latex": [
       "$\\displaystyle \\frac{\\gamma_{1,2} \\gamma_{3,2} \\alpha - \\gamma_{1,2} \\alpha \\beta - 2 \\gamma_{1,2} \\alpha - \\gamma_{1,2} \\beta + \\gamma_{3,2} \\alpha + \\alpha \\beta + \\beta}{\\gamma_{1,2} \\left(\\alpha \\beta + 3 \\alpha + 2 \\beta\\right)}$"
      ],
      "text/plain": [
       "(\\gamma_{1,2}*\\gamma_{3,2}*alpha - \\gamma_{1,2}*alpha*beta - 2*\\gamma_{1,2}*alpha - \\gamma_{1,2}*beta + \\gamma_{3,2}*alpha + alpha*beta + beta)/(\\gamma_{1,2}*(alpha*beta + 3*alpha + 2*beta))"
      ]
     },
     "execution_count": 25,
     "metadata": {},
     "output_type": "execute_result"
    }
   ],
   "source": [
    "alpha_beta_transf(delta_mfpt)"
   ]
  },
  {
   "cell_type": "markdown",
   "id": "ace85167-1a0f-4f57-b113-2208c2a8a3c1",
   "metadata": {},
   "source": [
    "## Case (2.III)"
   ]
  },
  {
   "cell_type": "code",
   "execution_count": 26,
   "id": "c2654fa0-e907-4573-9542-eb56b2245de4",
   "metadata": {},
   "outputs": [],
   "source": [
    "ss_subs = sympy.simplify(ss_subs_main.subs({g12:1, g21:g21, g23:g23, g32:1}))\n",
    "mfpt_subs = sympy.simplify(mfpt_subs_main.subs({g12:1, g21:g21, g23:g23, g32:1}))\n",
    "delta_ss, delta_mfpt = compute_deltas(ss_subs, mfpt_subs)"
   ]
  },
  {
   "cell_type": "code",
   "execution_count": 28,
   "id": "f0308d1e-d5d4-47a0-909c-4284de52d9f5",
   "metadata": {},
   "outputs": [
    {
     "data": {
      "text/latex": [
       "$\\displaystyle \\frac{- \\gamma_{2,1} + 2 \\gamma_{2,3} - 1}{3 \\left(\\gamma_{2,1} + \\gamma_{2,3} + 1\\right)}$"
      ],
      "text/plain": [
       "(-\\gamma_{2,1} + 2*\\gamma_{2,3} - 1)/(3*(\\gamma_{2,1} + \\gamma_{2,3} + 1))"
      ]
     },
     "execution_count": 28,
     "metadata": {},
     "output_type": "execute_result"
    }
   ],
   "source": [
    "alpha_beta_transf(delta_ss)"
   ]
  },
  {
   "cell_type": "code",
   "execution_count": 29,
   "id": "32abe98c-dd37-40db-930c-1c5fcc152f12",
   "metadata": {},
   "outputs": [
    {
     "data": {
      "text/latex": [
       "$\\displaystyle \\frac{\\gamma_{2,1} \\alpha + \\gamma_{2,1} \\beta - 2 \\gamma_{2,3} \\alpha - 2 \\gamma_{2,3} \\beta + \\alpha + \\beta}{\\gamma_{2,3} \\left(\\alpha \\beta + 3 \\alpha + 2 \\beta\\right)}$"
      ],
      "text/plain": [
       "(\\gamma_{2,1}*alpha + \\gamma_{2,1}*beta - 2*\\gamma_{2,3}*alpha - 2*\\gamma_{2,3}*beta + alpha + beta)/(\\gamma_{2,3}*(alpha*beta + 3*alpha + 2*beta))"
      ]
     },
     "execution_count": 29,
     "metadata": {},
     "output_type": "execute_result"
    }
   ],
   "source": [
    "alpha_beta_transf(delta_mfpt)"
   ]
  },
  {
   "cell_type": "markdown",
   "id": "3e995a2d-df30-4eae-ab0b-7a3aecf660d5",
   "metadata": {},
   "source": [
    "## Case (2.IV)"
   ]
  },
  {
   "cell_type": "code",
   "execution_count": 35,
   "id": "ec4ea06a-bb23-427d-a507-eb9ebb41691d",
   "metadata": {},
   "outputs": [],
   "source": [
    "ss_subs = sympy.simplify(ss_subs_main.subs({g12:1, g21:g21, g23:1, g32:g32}))\n",
    "mfpt_subs = sympy.simplify(mfpt_subs_main.subs({g12:1, g21:g21, g23:1, g32:g32}))\n",
    "delta_ss, delta_mfpt = compute_deltas(ss_subs, mfpt_subs)"
   ]
  },
  {
   "cell_type": "code",
   "execution_count": 36,
   "id": "ee183bb5-65b8-4cc3-b7d7-fd510a043ccf",
   "metadata": {},
   "outputs": [
    {
     "data": {
      "text/latex": [
       "$\\displaystyle \\frac{- \\gamma_{2,1} \\gamma_{3,2} - \\gamma_{3,2} + 2}{3 \\left(\\gamma_{2,1} \\gamma_{3,2} + \\gamma_{3,2} + 1\\right)}$"
      ],
      "text/plain": [
       "(-\\gamma_{2,1}*\\gamma_{3,2} - \\gamma_{3,2} + 2)/(3*(\\gamma_{2,1}*\\gamma_{3,2} + \\gamma_{3,2} + 1))"
      ]
     },
     "execution_count": 36,
     "metadata": {},
     "output_type": "execute_result"
    }
   ],
   "source": [
    "alpha_beta_transf(delta_ss)"
   ]
  },
  {
   "cell_type": "code",
   "execution_count": 37,
   "id": "07867ff0-cae7-41f8-a126-f9e7d8ce00fe",
   "metadata": {},
   "outputs": [
    {
     "data": {
      "text/latex": [
       "$\\displaystyle \\frac{\\gamma_{2,1} \\gamma_{3,2} \\alpha + \\gamma_{2,1} \\beta + \\gamma_{3,2} \\alpha - 2 \\alpha - \\beta}{\\alpha \\beta + 3 \\alpha + 2 \\beta}$"
      ],
      "text/plain": [
       "(\\gamma_{2,1}*\\gamma_{3,2}*alpha + \\gamma_{2,1}*beta + \\gamma_{3,2}*alpha - 2*alpha - beta)/(alpha*beta + 3*alpha + 2*beta)"
      ]
     },
     "execution_count": 37,
     "metadata": {},
     "output_type": "execute_result"
    }
   ],
   "source": [
    "alpha_beta_transf(delta_mfpt)"
   ]
  }
 ],
 "metadata": {
  "kernelspec": {
   "display_name": "Python 3 (ipykernel)",
   "language": "python",
   "name": "python3"
  },
  "language_info": {
   "codemirror_mode": {
    "name": "ipython",
    "version": 3
   },
   "file_extension": ".py",
   "mimetype": "text/x-python",
   "name": "python",
   "nbconvert_exporter": "python",
   "pygments_lexer": "ipython3",
   "version": "3.11.5"
  }
 },
 "nbformat": 4,
 "nbformat_minor": 5
}
