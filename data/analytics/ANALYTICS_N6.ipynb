{
 "cells": [
  {
   "cell_type": "code",
   "execution_count": 1,
   "id": "0f207d3c-1e9c-4cdf-99cb-6efab99c8ba1",
   "metadata": {},
   "outputs": [],
   "source": [
    "import numpy as np \n",
    "import sympy as sym\n",
    "import pickle\n",
    "import matplotlib.pyplot as plt\n",
    "from IPython.display import display, Math"
   ]
  },
  {
   "cell_type": "code",
   "execution_count": 2,
   "id": "0ca6c1d4-fd0b-4a51-bb1e-39ba986e16fb",
   "metadata": {},
   "outputs": [],
   "source": [
    "l1 = sym.Symbol('l_1')\n",
    "l2 = sym.Symbol('l_2')\n",
    "\n",
    "kon  = sym.Symbol('k_{on}')\n",
    "koff  = sym.Symbol('k_{off}')\n",
    "x    = sym.Symbol(\"x\")\n",
    "\n",
    "alpha = sym.Symbol('alpha')\n",
    "beta = sym.Symbol('beta')"
   ]
  },
  {
   "cell_type": "code",
   "execution_count": 3,
   "id": "3f4a89dc-87b9-4aca-b7b4-6f1a85324f16",
   "metadata": {},
   "outputs": [],
   "source": [
    "with open(\"full_equations/p_ss_N6.txt\", \"rb\") as inf:\n",
    "    ss = pickle.load(inf)\n",
    "\n",
    "with open(\"full_equations/meanFPT_N6.txt\", \"rb\") as inf:\n",
    "    mean_mfpt = pickle.load(inf)"
   ]
  },
  {
   "cell_type": "markdown",
   "id": "2247dc53-2466-4c45-94d5-fd015de20cc7",
   "metadata": {},
   "source": [
    "# $\\alpha \\neq 1$, $\\beta = 1$"
   ]
  },
  {
   "cell_type": "code",
   "execution_count": 4,
   "id": "bc8b0a7c-446d-41f7-8c21-377371924d08",
   "metadata": {},
   "outputs": [],
   "source": [
    "ss_subs = ss.subs({beta: 1})\n",
    "mean_mfpt_subs = mean_mfpt.subs({beta: 1})"
   ]
  },
  {
   "cell_type": "code",
   "execution_count": 5,
   "id": "f4218222-607c-48dc-97bb-4232fa55f967",
   "metadata": {},
   "outputs": [],
   "source": [
    "delta_ss = sym.simplify(sym.limit(ss_subs, x, sym.oo) - sym.limit(ss_subs, x, 0))\n",
    "delta_mfpt = sym.simplify((sym.limit(mean_mfpt_subs, x, 0) - sym.limit(mean_mfpt_subs, x, sym.oo))/sym.limit(mean_mfpt_subs, x, 0))"
   ]
  },
  {
   "cell_type": "code",
   "execution_count": 6,
   "id": "af638a0a-1b58-4bc2-9819-e2e4393078a0",
   "metadata": {},
   "outputs": [
    {
     "data": {
      "text/latex": [
       "$\\displaystyle \\frac{\\alpha - 1}{3 \\left(\\alpha + 2\\right)}$"
      ],
      "text/plain": [
       "(alpha - 1)/(3*(alpha + 2))"
      ]
     },
     "execution_count": 6,
     "metadata": {},
     "output_type": "execute_result"
    }
   ],
   "source": [
    "delta_ss"
   ]
  },
  {
   "cell_type": "code",
   "execution_count": 7,
   "id": "eb44008b-22fc-46b9-a932-725363a7e768",
   "metadata": {},
   "outputs": [
    {
     "data": {
      "text/latex": [
       "$\\displaystyle \\frac{4 l_{1} \\left(\\alpha - 1\\right)}{\\alpha \\left(5 l_{1} + 2 l_{2}\\right)}$"
      ],
      "text/plain": [
       "4*l_1*(alpha - 1)/(alpha*(5*l_1 + 2*l_2))"
      ]
     },
     "execution_count": 7,
     "metadata": {},
     "output_type": "execute_result"
    }
   ],
   "source": [
    "delta_mfpt"
   ]
  },
  {
   "cell_type": "markdown",
   "id": "64e0eb66-c61b-4fdb-84c9-9bca9db1c0a3",
   "metadata": {},
   "source": [
    "# $\\alpha = 1, \\beta \\neq 1$"
   ]
  },
  {
   "cell_type": "code",
   "execution_count": 8,
   "id": "58ac8add-f2ad-424d-ab4b-2bbbb2db4834",
   "metadata": {},
   "outputs": [],
   "source": [
    "ss_subs = ss.subs({alpha: 1})\n",
    "mean_mfpt_subs = mean_mfpt.subs({alpha: 1})\n",
    "\n",
    "delta_ss = sym.simplify(sym.limit(ss_subs, x, sym.oo) - sym.limit(ss_subs, x, 0))\n",
    "delta_mfpt = sym.simplify((sym.limit(mean_mfpt_subs, x, 0) - sym.limit(mean_mfpt_subs, x, sym.oo))/sym.limit(mean_mfpt_subs, x, 0))"
   ]
  },
  {
   "cell_type": "code",
   "execution_count": 9,
   "id": "02f56b36-c95e-406c-bd24-fb4fc66eebd9",
   "metadata": {},
   "outputs": [
    {
     "data": {
      "text/latex": [
       "$\\displaystyle \\frac{5 \\left(\\beta - 1\\right)}{6 \\left(\\beta + 5\\right)}$"
      ],
      "text/plain": [
       "5*(beta - 1)/(6*(beta + 5))"
      ]
     },
     "execution_count": 9,
     "metadata": {},
     "output_type": "execute_result"
    }
   ],
   "source": [
    "delta_ss"
   ]
  },
  {
   "cell_type": "code",
   "execution_count": 10,
   "id": "337d9b6c-f37b-43c8-9b59-03f6fd634859",
   "metadata": {},
   "outputs": [
    {
     "data": {
      "text/latex": [
       "$\\displaystyle \\frac{10 l_{1} \\left(\\beta - 1\\right)}{3 \\beta \\left(5 l_{1} + 2 l_{2}\\right)}$"
      ],
      "text/plain": [
       "10*l_1*(beta - 1)/(3*beta*(5*l_1 + 2*l_2))"
      ]
     },
     "execution_count": 10,
     "metadata": {},
     "output_type": "execute_result"
    }
   ],
   "source": [
    "delta_mfpt"
   ]
  },
  {
   "cell_type": "markdown",
   "id": "87b6e1e2-fe83-4719-b923-69c51a9dbe2b",
   "metadata": {},
   "source": [
    "# $\\alpha \\neq 1, \\beta \\neq 1$"
   ]
  },
  {
   "cell_type": "code",
   "execution_count": 11,
   "id": "5a53caa7-e04b-4d0f-9530-7801ffefb106",
   "metadata": {},
   "outputs": [],
   "source": [
    "ss_subs = ss.subs({beta: alpha})\n",
    "mean_mfpt_subs = mean_mfpt.subs({beta: alpha})\n",
    "\n",
    "delta_ss = sym.simplify(sym.limit(ss_subs, x, sym.oo) - sym.limit(ss_subs, x, 0))\n",
    "delta_mfpt = sym.simplify((sym.limit(mean_mfpt_subs, x, 0) - sym.limit(mean_mfpt_subs, x, sym.oo))/sym.limit(mean_mfpt_subs, x, 0))"
   ]
  },
  {
   "cell_type": "code",
   "execution_count": 12,
   "id": "db7378c3-cd53-4def-b398-2165852fae63",
   "metadata": {},
   "outputs": [
    {
     "data": {
      "text/latex": [
       "$\\displaystyle \\frac{5 \\alpha^{2} - \\alpha - 4}{6 \\left(\\alpha^{2} + \\alpha + 4\\right)}$"
      ],
      "text/plain": [
       "(5*alpha**2 - alpha - 4)/(6*(alpha**2 + alpha + 4))"
      ]
     },
     "execution_count": 12,
     "metadata": {},
     "output_type": "execute_result"
    }
   ],
   "source": [
    "delta_ss"
   ]
  },
  {
   "cell_type": "code",
   "execution_count": 13,
   "id": "623c48a9-1c59-496e-a033-5b7b5c7f7014",
   "metadata": {},
   "outputs": [
    {
     "data": {
      "text/latex": [
       "$\\displaystyle \\frac{2 l_{1} \\cdot \\left(7 \\alpha^{2} - 3 \\alpha - 4\\right)}{3 \\alpha^{2} \\cdot \\left(5 l_{1} + 2 l_{2}\\right)}$"
      ],
      "text/plain": [
       "2*l_1*(7*alpha**2 - 3*alpha - 4)/(3*alpha**2*(5*l_1 + 2*l_2))"
      ]
     },
     "execution_count": 13,
     "metadata": {},
     "output_type": "execute_result"
    }
   ],
   "source": [
    "delta_mfpt"
   ]
  },
  {
   "cell_type": "code",
   "execution_count": null,
   "id": "aeca29df-d8d7-46f5-8a69-8c9b5297a83c",
   "metadata": {},
   "outputs": [],
   "source": []
  }
 ],
 "metadata": {
  "kernelspec": {
   "display_name": "Python 3 (ipykernel)",
   "language": "python",
   "name": "python3"
  },
  "language_info": {
   "codemirror_mode": {
    "name": "ipython",
    "version": 3
   },
   "file_extension": ".py",
   "mimetype": "text/x-python",
   "name": "python",
   "nbconvert_exporter": "python",
   "pygments_lexer": "ipython3",
   "version": "3.11.5"
  }
 },
 "nbformat": 4,
 "nbformat_minor": 5
}
